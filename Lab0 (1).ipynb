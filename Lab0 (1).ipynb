{
 "cells": [
  {
   "cell_type": "markdown",
   "metadata": {},
   "source": [
    "# Laboratorio 00\n",
    "### Curso MA4702 año 2021\n",
    "### Profesores Iván Rapaport y José Soto \n",
    "\n",
    "Este es un laboratorio de prueba en el cual usaremos parte del tiempo para usar zoom en grupos, para que puedan trabajar en escribir y resolver modelos, y finalmente puedan entender el proceso de entrega.\n",
    "\n",
    "Este laboratorio no tiene evaluación asociada pero si una entrega al final del mismo. \n",
    "Si bien la entrega no se evaluará, preocúpense de hacerla bien pues les puede servir de base para futuros laboratorios.\n",
    "En particular, la tarea 1 que se mandará el día lunes hará uso de las funciones que cree hoy en el laboratorio.\n",
    "\n",
    "Debe ingresar al zoom con su nombre y apellido tal como aparece en la lista de integrantes del curso (no se permiten nicknames o abreviaciones en el nombre durante los laboratorio).\n",
    "\n",
    "La primera parte del laboratorio consiste en una descripción global del mismo y una prueba del sistema de asignación aleatoria de zoom en grupos.\n",
    "\n",
    "\n"
   ]
  },
  {
   "cell_type": "markdown",
   "metadata": {},
   "source": [
    "## 1. Instrucciones.\n",
    "\n",
    "* Complete la celda \"2. Datos grupo\".\n",
    "* Lea el enunciado.\n",
    "* Complete los ejercicios 1, 2, 3, 4 y 5 (hasta donde alcanze)\n",
    "* (Recomendamos que uno de los integrantes del grupo mantenga la versión oficial de su grupo, el resto\n",
    "  puede ejecutar celdas de prueba en sus propios Jupiter, cambiando el orden, etc)\n",
    "* Antes de entregar, en el menú de Jupyter ejecute Kernel -> Restart and Run All. \n",
    "* Esto correrá todas las celdas del archivo en orden (puede tomar algo de tiempo)\n",
    "* Guarde una copia del archivo .ipynb luego de esto. Eso es lo que debe entregar.\n",
    "* Un representante del grupo debe subir el archivo .ipynb por el modulo de tareas de ucursos en la tarea: \n",
    "  Laboratorio de diagnostico.\n",
    "* Plazo de entrega:  Miércoles 31 de marzo a las 18:00"
   ]
  },
  {
   "cell_type": "markdown",
   "metadata": {},
   "source": [
    "## 2. Datos grupo\n",
    "\n",
    "Escriba en esta celda el nombre de cada integrante de su grupo.\n",
    "\n",
    "- Integrante 1: Sebastian Acuña\n",
    "\n",
    "- Integrante 2: Luis Fuentes\n",
    "\n",
    "- Integrante 3: Javiera Gutierrez\n",
    "\n",
    "- Integrante 4: Javier Santidrian\n"
   ]
  },
  {
   "cell_type": "markdown",
   "metadata": {},
   "source": [
    "# 3 Preparacion\n",
    "\n",
    "Antes de empezar a trabajar asegurese de tener los siguientes paquetes instalados\n",
    "JuMP, Gurobi, CSV, Combinatorics\n",
    "y luego llameslo con el comando ``using``"
   ]
  },
  {
   "cell_type": "code",
   "execution_count": 3,
   "metadata": {},
   "outputs": [],
   "source": [
    "import Pkg\n",
    "\n",
    "#Pkg.add(\"JuMP\")\n",
    "#Pkg.add(\"Gurobi\")\n",
    "#Pkg.add(\"CSV\")\n",
    "#Pkg.add(\"Combinatorics\")\n",
    "#Pkg.add(\"DataFrames\")\n",
    "\n",
    "# Nota: Luego de instalar estos paquetes\n",
    "# comente todas las lineas anteriores para que no\n",
    "# vuelvan a cargarse cuando ejecute el archivo nuevamente\n",
    "# import Pkg\n",
    "\n",
    "using JuMP, Gurobi, CSV, Combinatorics, DataFrames"
   ]
  },
  {
   "cell_type": "markdown",
   "metadata": {},
   "source": [
    "\n",
    "# 4. Lectura de grafos de un archivo.\n",
    "\n",
    "\n",
    "\n",
    "En este laboratorio usaremos una estructura simple para grafos:\n",
    "\n",
    "> Llamaremos ``N`` al número de vértices del grafo. Supondremos que sus vértices son elementos de ``1:N`` y que los pesos son valores enteros (esto es para evitar trabajar con decimales en los datos).\n",
    ">\n",
    "> Las aristas serán arreglos de objetos de 2 elementos ``[i,j]`` donde ``i<j``. Estarán en un arreglo ``E``.\n",
    ">\n",
    "> ``w`` será una diccionario tal que ``w[e]`` tiene el valor de w[e]\n",
    ">\n",
    "> (Note que si quiere acceder al peso de [1, 2] por ejemplo, debe escribir w[ [1, 2] ]\n",
    "\n",
    "La siguiente funcion recibe un archivo .csv (tipo estándar para recibir datos) que corresponde a una tabla con 3 columnas de datos donde la primera fila es de la forma N 0 0 y el resto son cero o mas lineas con valores i j w"
   ]
  },
  {
   "cell_type": "code",
   "execution_count": 4,
   "metadata": {},
   "outputs": [
    {
     "data": {
      "text/plain": [
       "leegrafo (generic function with 1 method)"
      ]
     },
     "execution_count": 4,
     "metadata": {},
     "output_type": "execute_result"
    }
   ],
   "source": [
    "function leegrafo(archivocsv)\n",
    "    M=Matrix(CSV.read(archivocsv, DataFrame, header=0))\n",
    "    N=M[1,1]\n",
    "    w=Dict{Array{Int64,1},Int64}()\n",
    "    for i in 2:size(M,1)\n",
    "        e=[M[i,1],M[i,2]]\n",
    "        w[e]=M[i,3]\n",
    "    end\n",
    "    E=sort(collect(keys(w)))\n",
    "return N,E,w\n",
    "end"
   ]
  },
  {
   "cell_type": "code",
   "execution_count": 8,
   "metadata": {},
   "outputs": [
    {
     "name": "stdout",
     "output_type": "stream",
     "text": [
      "E = [[1, 2], [1, 3], [1, 6], [1, 8], [2, 3], [2, 5], [3, 4], [3, 8], [4, 5], [4, 7], [4, 8], [5, 6], [5, 7], [6, 7], [7, 8]]\n"
     ]
    },
    {
     "data": {
      "text/plain": [
       "15-element Array{Array{Int64,1},1}:\n",
       " [1, 2]\n",
       " [1, 3]\n",
       " [1, 6]\n",
       " [1, 8]\n",
       " [2, 3]\n",
       " [2, 5]\n",
       " [3, 4]\n",
       " [3, 8]\n",
       " [4, 5]\n",
       " [4, 7]\n",
       " [4, 8]\n",
       " [5, 6]\n",
       " [5, 7]\n",
       " [6, 7]\n",
       " [7, 8]"
      ]
     },
     "execution_count": 8,
     "metadata": {},
     "output_type": "execute_result"
    }
   ],
   "source": [
    "N,E,w=leegrafo(\"grafo1.csv\")\n",
    "@show(E)"
   ]
  },
  {
   "cell_type": "code",
   "execution_count": null,
   "metadata": {},
   "outputs": [],
   "source": [
    "for e in E\n",
    "    @show(e,w[e])\n",
    "end"
   ]
  },
  {
   "cell_type": "markdown",
   "metadata": {},
   "source": [
    "# 5. Formulaciones del MST\n",
    "\n",
    "En este laboratorio investigaremos distintos modelos para el problema de encontrar un árbol generador de peso\n",
    "mínimo (MST) en un grafo $G = (V,E)$ con pesos positivos $w\\colon E \\to \\mathbb{R}^+$.\n",
    "Como usted ya sabe, este problema se puede resolver mediante distintos algoritmos combinatoriales tales como el de Prim o el de Kruskal. Estos son en general mucho más eficientes de lo que se puede lograr con un solver de uso general para programación lineal mixta. Sin embargo los algoritmos combinatoriales no siempre se pueden modificar para manejar dificultades típicas como por ejemplo la inclusión de restricciones adicionales. Entender como resolver MST usando programación lineal mixta es útil como primer paso para resolver problemas más complejos.\n",
    "\n",
    "Les pediremos que escriban y prueben 4 modelos diferentes del problema del MST. El primer modelo estará a medio hacer, el resto deberá crearlos desde cero. Al final del laboratorio, además, debe correr una parte adicional.\n",
    "\n",
    "Para cada modelo (digamos que se llama NOMBRE) se le pedirá lo siguiente\n",
    "\n",
    "1. Escribir una funcion modelo_nombre(N,E,w) que reciba valores N, E, w descritos anteriormente \n",
    "   y que devuelva un modelo en JuMP\n",
    "   \n",
    "2. Resolver el modelo en una instancia de prueba ubicado en el archivo \"grafo1.csv\"\n",
    "   Para esto debe escribir en una celda de Jupyter instrucciones similares a la siguiente:\n",
    "   ```julia\n",
    "   N,E,w=leegrafo(\"grafo1.csv\")\n",
    "   @time mimodelo = modelo_nombre(N,E,w)\n",
    "   @time optimize(modelo_nombre)\n",
    "   # luego debe escribir instrucciones para que muestre en la pantalla el valor del MST encontrado\n",
    "   # y el conjunto de aristas del MST encontrado \n",
    "   ```  \n",
    "3. Nota: Puede probar sus modelos en los grafos de prueba \"grafo1.csv\" hasta \"grafo9.csv\". \n",
    "   En la tarea (que se publicará el día lunes) se les pedirá trabajar con estos grafos, con los modelos anteriores \n",
    "   y con nuevos modelos.\n",
    "\n",
    "\n",
    "> Nota adicional.\n",
    "> En algunos modelos necesitará trabajar con conjuntos potencia. \n",
    "> Básese en el siguiente ejemplo para conseguir lo que necesite\n",
    "> (el comando powerset es parte del paquete Combinatorics que cargó al comienzo) "
   ]
  },
  {
   "cell_type": "code",
   "execution_count": 9,
   "metadata": {},
   "outputs": [
    {
     "name": "stdout",
     "output_type": "stream",
     "text": [
      "search: \u001b[0m\u001b[1mp\u001b[22m\u001b[0m\u001b[1mo\u001b[22m\u001b[0m\u001b[1mw\u001b[22m\u001b[0m\u001b[1me\u001b[22m\u001b[0m\u001b[1mr\u001b[22m\u001b[0m\u001b[1ms\u001b[22m\u001b[0m\u001b[1me\u001b[22m\u001b[0m\u001b[1mt\u001b[22m GRB_INT_\u001b[0m\u001b[1mP\u001b[22mAR_FL\u001b[0m\u001b[1mO\u001b[22m\u001b[0m\u001b[1mW\u001b[22mCOV\u001b[0m\u001b[1mE\u001b[22m\u001b[0m\u001b[1mR\u001b[22mCUT\u001b[0m\u001b[1mS\u001b[22m\n",
      "\n"
     ]
    },
    {
     "data": {
      "text/latex": [
       "\\begin{verbatim}\n",
       "powerset(a, min=0, max=length(a))\n",
       "\\end{verbatim}\n",
       "Generate all subsets of an indexable object \\texttt{a} including the empty set, with cardinality bounded by \\texttt{min} and \\texttt{max}. Because the number of subsets can be very large, this function returns an iterator object. Use \\texttt{collect(powerset(a, min, max))} to get an array of all subsets.\n",
       "\n"
      ],
      "text/markdown": [
       "```\n",
       "powerset(a, min=0, max=length(a))\n",
       "```\n",
       "\n",
       "Generate all subsets of an indexable object `a` including the empty set, with cardinality bounded by `min` and `max`. Because the number of subsets can be very large, this function returns an iterator object. Use `collect(powerset(a, min, max))` to get an array of all subsets.\n"
      ],
      "text/plain": [
       "\u001b[36m  powerset(a, min=0, max=length(a))\u001b[39m\n",
       "\n",
       "  Generate all subsets of an indexable object \u001b[36ma\u001b[39m including the empty set, with\n",
       "  cardinality bounded by \u001b[36mmin\u001b[39m and \u001b[36mmax\u001b[39m. Because the number of subsets can be\n",
       "  very large, this function returns an iterator object. Use\n",
       "  \u001b[36mcollect(powerset(a, min, max))\u001b[39m to get an array of all subsets."
      ]
     },
     "execution_count": 9,
     "metadata": {},
     "output_type": "execute_result"
    }
   ],
   "source": [
    "?powerset"
   ]
  },
  {
   "cell_type": "code",
   "execution_count": 25,
   "metadata": {},
   "outputs": [
    {
     "name": "stdout",
     "output_type": "stream",
     "text": [
      "[1]\n",
      "[2]\n",
      "[3]\n",
      "[4]\n",
      "[5]\n",
      "[6]\n",
      "[7]\n",
      "[8]\n",
      "[1, 2]\n",
      "[1, 3]\n",
      "[1, 4]\n",
      "[1, 5]\n",
      "[1, 6]\n",
      "[1, 7]\n",
      "[1, 8]\n",
      "[2, 3]\n",
      "[2, 4]\n",
      "[2, 5]\n",
      "[2, 6]\n",
      "[2, 7]\n",
      "[2, 8]\n",
      "[3, 4]\n",
      "[3, 5]\n",
      "[3, 6]\n",
      "[3, 7]\n",
      "[3, 8]\n",
      "[4, 5]\n",
      "[4, 6]\n",
      "[4, 7]\n",
      "[4, 8]\n",
      "[5, 6]\n",
      "[5, 7]\n",
      "[5, 8]\n",
      "[6, 7]\n",
      "[6, 8]\n",
      "[7, 8]\n",
      "[1, 2, 3]\n",
      "[1, 2, 4]\n",
      "[1, 2, 5]\n",
      "[1, 2, 6]\n",
      "[1, 2, 7]\n",
      "[1, 2, 8]\n",
      "[1, 3, 4]\n",
      "[1, 3, 5]\n",
      "[1, 3, 6]\n",
      "[1, 3, 7]\n",
      "[1, 3, 8]\n",
      "[1, 4, 5]\n",
      "[1, 4, 6]\n",
      "[1, 4, 7]\n",
      "[1, 4, 8]\n",
      "[1, 5, 6]\n",
      "[1, 5, 7]\n",
      "[1, 5, 8]\n",
      "[1, 6, 7]\n",
      "[1, 6, 8]\n",
      "[1, 7, 8]\n",
      "[2, 3, 4]\n",
      "[2, 3, 5]\n",
      "[2, 3, 6]\n",
      "[2, 3, 7]\n",
      "[2, 3, 8]\n",
      "[2, 4, 5]\n",
      "[2, 4, 6]\n",
      "[2, 4, 7]\n",
      "[2, 4, 8]\n",
      "[2, 5, 6]\n",
      "[2, 5, 7]\n",
      "[2, 5, 8]\n",
      "[2, 6, 7]\n",
      "[2, 6, 8]\n",
      "[2, 7, 8]\n",
      "[3, 4, 5]\n",
      "[3, 4, 6]\n",
      "[3, 4, 7]\n",
      "[3, 4, 8]\n",
      "[3, 5, 6]\n",
      "[3, 5, 7]\n",
      "[3, 5, 8]\n",
      "[3, 6, 7]\n",
      "[3, 6, 8]\n",
      "[3, 7, 8]\n",
      "[4, 5, 6]\n",
      "[4, 5, 7]\n",
      "[4, 5, 8]\n",
      "[4, 6, 7]\n",
      "[4, 6, 8]\n",
      "[4, 7, 8]\n",
      "[5, 6, 7]\n",
      "[5, 6, 8]\n",
      "[5, 7, 8]\n",
      "[6, 7, 8]\n",
      "[1, 2, 3, 4]\n",
      "[1, 2, 3, 5]\n",
      "[1, 2, 3, 6]\n",
      "[1, 2, 3, 7]\n",
      "[1, 2, 3, 8]\n",
      "[1, 2, 4, 5]\n",
      "[1, 2, 4, 6]\n",
      "[1, 2, 4, 7]\n",
      "[1, 2, 4, 8]\n",
      "[1, 2, 5, 6]\n",
      "[1, 2, 5, 7]\n",
      "[1, 2, 5, 8]\n",
      "[1, 2, 6, 7]\n",
      "[1, 2, 6, 8]\n",
      "[1, 2, 7, 8]\n",
      "[1, 3, 4, 5]\n",
      "[1, 3, 4, 6]\n",
      "[1, 3, 4, 7]\n",
      "[1, 3, 4, 8]\n",
      "[1, 3, 5, 6]\n",
      "[1, 3, 5, 7]\n",
      "[1, 3, 5, 8]\n",
      "[1, 3, 6, 7]\n",
      "[1, 3, 6, 8]\n",
      "[1, 3, 7, 8]\n",
      "[1, 4, 5, 6]\n",
      "[1, 4, 5, 7]\n",
      "[1, 4, 5, 8]\n",
      "[1, 4, 6, 7]\n",
      "[1, 4, 6, 8]\n",
      "[1, 4, 7, 8]\n",
      "[1, 5, 6, 7]\n",
      "[1, 5, 6, 8]\n",
      "[1, 5, 7, 8]\n",
      "[1, 6, 7, 8]\n",
      "[2, 3, 4, 5]\n",
      "[2, 3, 4, 6]\n",
      "[2, 3, 4, 7]\n",
      "[2, 3, 4, 8]\n",
      "[2, 3, 5, 6]\n",
      "[2, 3, 5, 7]\n",
      "[2, 3, 5, 8]\n",
      "[2, 3, 6, 7]\n",
      "[2, 3, 6, 8]\n",
      "[2, 3, 7, 8]\n",
      "[2, 4, 5, 6]\n",
      "[2, 4, 5, 7]\n",
      "[2, 4, 5, 8]\n",
      "[2, 4, 6, 7]\n",
      "[2, 4, 6, 8]\n",
      "[2, 4, 7, 8]\n",
      "[2, 5, 6, 7]\n",
      "[2, 5, 6, 8]\n",
      "[2, 5, 7, 8]\n",
      "[2, 6, 7, 8]\n",
      "[3, 4, 5, 6]\n",
      "[3, 4, 5, 7]\n",
      "[3, 4, 5, 8]\n",
      "[3, 4, 6, 7]\n",
      "[3, 4, 6, 8]\n",
      "[3, 4, 7, 8]\n",
      "[3, 5, 6, 7]\n",
      "[3, 5, 6, 8]\n",
      "[3, 5, 7, 8]\n",
      "[3, 6, 7, 8]\n",
      "[4, 5, 6, 7]\n",
      "[4, 5, 6, 8]\n",
      "[4, 5, 7, 8]\n",
      "[4, 6, 7, 8]\n",
      "[5, 6, 7, 8]\n",
      "[1, 2, 3, 4, 5]\n",
      "[1, 2, 3, 4, 6]\n",
      "[1, 2, 3, 4, 7]\n",
      "[1, 2, 3, 4, 8]\n",
      "[1, 2, 3, 5, 6]\n",
      "[1, 2, 3, 5, 7]\n",
      "[1, 2, 3, 5, 8]\n",
      "[1, 2, 3, 6, 7]\n",
      "[1, 2, 3, 6, 8]\n",
      "[1, 2, 3, 7, 8]\n",
      "[1, 2, 4, 5, 6]\n",
      "[1, 2, 4, 5, 7]\n",
      "[1, 2, 4, 5, 8]\n",
      "[1, 2, 4, 6, 7]\n",
      "[1, 2, 4, 6, 8]\n",
      "[1, 2, 4, 7, 8]\n",
      "[1, 2, 5, 6, 7]\n",
      "[1, 2, 5, 6, 8]\n",
      "[1, 2, 5, 7, 8]\n",
      "[1, 2, 6, 7, 8]\n",
      "[1, 3, 4, 5, 6]\n",
      "[1, 3, 4, 5, 7]\n",
      "[1, 3, 4, 5, 8]\n",
      "[1, 3, 4, 6, 7]\n",
      "[1, 3, 4, 6, 8]\n",
      "[1, 3, 4, 7, 8]\n",
      "[1, 3, 5, 6, 7]\n",
      "[1, 3, 5, 6, 8]\n",
      "[1, 3, 5, 7, 8]\n",
      "[1, 3, 6, 7, 8]\n",
      "[1, 4, 5, 6, 7]\n",
      "[1, 4, 5, 6, 8]\n",
      "[1, 4, 5, 7, 8]\n",
      "[1, 4, 6, 7, 8]\n",
      "[1, 5, 6, 7, 8]\n",
      "[2, 3, 4, 5, 6]\n",
      "[2, 3, 4, 5, 7]\n",
      "[2, 3, 4, 5, 8]\n",
      "[2, 3, 4, 6, 7]\n",
      "[2, 3, 4, 6, 8]\n",
      "[2, 3, 4, 7, 8]\n",
      "[2, 3, 5, 6, 7]\n",
      "[2, 3, 5, 6, 8]\n",
      "[2, 3, 5, 7, 8]\n",
      "[2, 3, 6, 7, 8]\n",
      "[2, 4, 5, 6, 7]\n",
      "[2, 4, 5, 6, 8]\n",
      "[2, 4, 5, 7, 8]\n",
      "[2, 4, 6, 7, 8]\n",
      "[2, 5, 6, 7, 8]\n",
      "[3, 4, 5, 6, 7]\n",
      "[3, 4, 5, 6, 8]\n",
      "[3, 4, 5, 7, 8]\n",
      "[3, 4, 6, 7, 8]\n",
      "[3, 5, 6, 7, 8]\n",
      "[4, 5, 6, 7, 8]\n",
      "[1, 2, 3, 4, 5, 6]\n",
      "[1, 2, 3, 4, 5, 7]\n",
      "[1, 2, 3, 4, 5, 8]\n",
      "[1, 2, 3, 4, 6, 7]\n",
      "[1, 2, 3, 4, 6, 8]\n",
      "[1, 2, 3, 4, 7, 8]\n",
      "[1, 2, 3, 5, 6, 7]\n",
      "[1, 2, 3, 5, 6, 8]\n",
      "[1, 2, 3, 5, 7, 8]\n",
      "[1, 2, 3, 6, 7, 8]\n",
      "[1, 2, 4, 5, 6, 7]\n",
      "[1, 2, 4, 5, 6, 8]\n",
      "[1, 2, 4, 5, 7, 8]\n",
      "[1, 2, 4, 6, 7, 8]\n",
      "[1, 2, 5, 6, 7, 8]\n",
      "[1, 3, 4, 5, 6, 7]\n",
      "[1, 3, 4, 5, 6, 8]\n",
      "[1, 3, 4, 5, 7, 8]\n",
      "[1, 3, 4, 6, 7, 8]\n",
      "[1, 3, 5, 6, 7, 8]\n",
      "[1, 4, 5, 6, 7, 8]\n",
      "[2, 3, 4, 5, 6, 7]\n",
      "[2, 3, 4, 5, 6, 8]\n",
      "[2, 3, 4, 5, 7, 8]\n",
      "[2, 3, 4, 6, 7, 8]\n",
      "[2, 3, 5, 6, 7, 8]\n",
      "[2, 4, 5, 6, 7, 8]\n",
      "[3, 4, 5, 6, 7, 8]\n",
      "[1, 2, 3, 4, 5, 6, 7]\n",
      "[1, 2, 3, 4, 5, 6, 8]\n",
      "[1, 2, 3, 4, 5, 7, 8]\n",
      "[1, 2, 3, 4, 6, 7, 8]\n",
      "[1, 2, 3, 5, 6, 7, 8]\n",
      "[1, 2, 4, 5, 6, 7, 8]\n",
      "[1, 3, 4, 5, 6, 7, 8]\n",
      "[2, 3, 4, 5, 6, 7, 8]\n"
     ]
    }
   ],
   "source": [
    "# Ejemplo: imprimir todos los subconjuntos de 1:10 de tamaños 3 a 5 cuya suma de elementos esté entre 15 y 16\n",
    " for X in powerset(1:8, 1, 7)\n",
    "    println(X)\n",
    "end"
   ]
  },
  {
   "cell_type": "markdown",
   "metadata": {},
   "source": [
    "# 6. Ejercicios."
   ]
  },
  {
   "cell_type": "markdown",
   "metadata": {},
   "source": [
    "## Ejercicio 1. Formulacion del MST como PLE por corte"
   ]
  },
  {
   "cell_type": "markdown",
   "metadata": {},
   "source": [
    "Recuerde que un subgrafo $H = (V, F)$ de $G=(V,E)$ es conexo si y solo si la siguiente condición de corte se cumple:\n",
    "   \n",
    ">   $\\delta_F(S) \\geq 1$, para todo $S\\subseteq V, S\\neq \\emptyset, S\\neq V$\n",
    "   \n",
    "Recuerde además que  los árboles generadores de $G$ son exactamente los subgrafos $H = (V, F)$ conexos con $|F| = n−1$ aristas.\n",
    "\n",
    "Usando la caracterización anterior, el modelo (M1) siguiente resulta ser un modelo exacto para MST\n",
    "\n",
    "$$\n",
    "\\begin{align*}\n",
    "(\\text{M1}) \\quad \\min \\sum_{e\\in E}&w_e x_e\\\\\n",
    "x(\\delta_E(S))&\\geq 1, \\qquad \\text{para todo $S\\subseteq V, S\\neq \\emptyset, S\\neq V$.}\\\\\n",
    "x(E) &= n-1\\\\\n",
    "0\\leq x_e  &\\leq 1, \\qquad \\text{para todo $e\\in E$}\\\\\n",
    "x_e &\\in \\mathbb{Z}\n",
    "\\end{align*}\n",
    "$$"
   ]
  },
  {
   "cell_type": "markdown",
   "metadata": {},
   "source": [
    "### Parte 1.a. \n",
    "Escribir una funcion ``modelo_cortes(N,E,w)`` que reciba valores N, E, w descritos anteriormente y que devuelva un modelo en JuMP"
   ]
  },
  {
   "cell_type": "code",
   "execution_count": 63,
   "metadata": {},
   "outputs": [
    {
     "data": {
      "text/plain": [
       "modelo_cortes (generic function with 1 method)"
      ]
     },
     "execution_count": 63,
     "metadata": {},
     "output_type": "execute_result"
    }
   ],
   "source": [
    "function modelo_cortes(N,E,w)\n",
    "    # 1. Crear modelo, asignar Gurobi como el optimizador\n",
    "    mimodelo = Model()\n",
    "    set_optimizer(mimodelo, Gurobi.Optimizer)\n",
    "    \n",
    "    # 2. Declarar variables de decisión (recomendamos usar este formato)\n",
    "    @variable(mimodelo, 0<=x[i in 1:N,j in 1:N; [i,j] in E]<=1, Int)    \n",
    "    \n",
    "    #3. Función objetivo\n",
    "    @objective(mimodelo, Min, sum(x[e[1],e[2]]*w[e] for e in E))\n",
    "\n",
    "    # 3. Escribir restricciones (llenar)\n",
    "    for S in powerset(1:N, 1, N-1)\n",
    "        @constraint(mimodelo, sum(x[i,j] for i in S, j in 1:N if [i,j] in E && !(j in S) ) + sum(x[i,j] for i in 1:N, j in S if [i,j] in E && !(i in S) ) >=1)\n",
    "    end\n",
    "    # no olvidar ninguna restriccion  \n",
    "    @constraint(mimodelo, sum(x[i,j] for i in 1:N, j in 1:N if [i,j] in E) == N-1)\n",
    "    \n",
    "    return mimodelo\n",
    "end\n",
    "\n"
   ]
  },
  {
   "cell_type": "markdown",
   "metadata": {},
   "source": [
    "### Parte 1.b \n",
    "Resolver MST, usando el modelo, en una instancia de prueba ubicado en el archivo \"grafo1.csv\". "
   ]
  },
  {
   "cell_type": "code",
   "execution_count": 64,
   "metadata": {},
   "outputs": [
    {
     "name": "stdout",
     "output_type": "stream",
     "text": [
      "Grafo con 8 nodos y 15 aristas\n",
      "Academic license - for non-commercial use only - expires 2021-05-24\n",
      "  0.378629 seconds (390.86 k allocations: 20.780 MiB)\n"
     ]
    }
   ],
   "source": [
    "# Lea el grafo y cree el modelo, mostrando el tiempo de ejecución\n",
    "N,E,w=leegrafo(\"grafo1.csv\")\n",
    "println(\"Grafo con $N nodos y $(size(E,1)) aristas\")\n",
    "@time mimodelo = modelo_cortes(N,E,w);"
   ]
  },
  {
   "cell_type": "code",
   "execution_count": 65,
   "metadata": {},
   "outputs": [
    {
     "name": "stdout",
     "output_type": "stream",
     "text": [
      "Gurobi Optimizer version 9.1.1 build v9.1.1rc0 (win64)\r\n",
      "Thread count: 4 physical cores, 8 logical processors, using up to 8 threads\r\n",
      "Optimize a model with 255 rows, 15 columns and 1935 nonzeros\r\n",
      "Model fingerprint: 0xa6cc415b\r\n",
      "Variable types: 0 continuous, 15 integer (0 binary)\r\n",
      "Coefficient statistics:\r\n",
      "  Matrix range     [1e+00, 1e+00]\r\n",
      "  Objective range  [5e+00, 2e+01]\r\n",
      "  Bounds range     [1e+00, 1e+00]\r\n",
      "  RHS range        [1e+00, 7e+00]\r\n",
      "Found heuristic solution: objective 85.0000000\r\n",
      "Presolve removed 179 rows and 0 columns\r\n",
      "Presolve time: 0.01s\r\n",
      "Presolved: 76 rows, 15 columns, 508 nonzeros\r\n",
      "Variable types: 0 continuous, 15 integer (15 binary)\r\n",
      "\r\n",
      "Root relaxation: objective 3.500000e+01, 1 iterations, 0.01 seconds\r\n",
      "\r\n",
      "    Nodes    |    Current Node    |     Objective Bounds      |     Work\r\n",
      " Expl Unexpl |  Obj  Depth IntInf | Incumbent    BestBd   Gap | It/Node Time\r\n",
      "\r\n",
      "*    0     0               0      35.0000000   35.00000  0.00%     -    0s\r\n",
      "\r\n",
      "Explored 0 nodes (1 simplex iterations) in 0.03 seconds\r\n",
      "Thread count was 8 (of 8 available processors)\r\n",
      "\r\n",
      "Solution count 2: 35 85 \r\n",
      "\r\n",
      "Optimal solution found (tolerance 1.00e-04)\r\n",
      "Best objective 3.500000000000e+01, best bound 3.500000000000e+01, gap 0.0000%\r\n",
      "\r\n",
      "User-callback calls 54, time in user-callback 0.00 sec\r\n",
      "  0.032590 seconds (3.82 k allocations: 373.422 KiB)\n"
     ]
    }
   ],
   "source": [
    "# Optimice el modelo, mostrando el tiempo de ejecución\n",
    "@time optimize!(mimodelo);"
   ]
  },
  {
   "cell_type": "code",
   "execution_count": 66,
   "metadata": {},
   "outputs": [
    {
     "name": "stdout",
     "output_type": "stream",
     "text": [
      "Gurobi Optimizer version 9.1.1 build v9.1.1rc0 (win64)\r\n",
      "Thread count: 4 physical cores, 8 logical processors, using up to 8 threads\r\n",
      "Optimize a model with 255 rows, 15 columns and 1935 nonzeros\r\n",
      "Model fingerprint: 0xa6cc415b\r\n",
      "Variable types: 0 continuous, 15 integer (0 binary)\r\n",
      "Coefficient statistics:\r\n",
      "  Matrix range     [1e+00, 1e+00]\r\n",
      "  Objective range  [5e+00, 2e+01]\r\n",
      "  Bounds range     [1e+00, 1e+00]\r\n",
      "  RHS range        [1e+00, 7e+00]\r\n",
      "Presolved: 76 rows, 15 columns, 508 nonzeros\r\n",
      "\r\n",
      "Continuing optimization...\r\n",
      "\r\n",
      "\r\n",
      "Explored 0 nodes (1 simplex iterations) in 0.00 seconds\r\n",
      "Thread count was 8 (of 8 available processors)\r\n",
      "\r\n",
      "Solution count 2: 35 85 \r\n",
      "\r\n",
      "Optimal solution found (tolerance 1.00e-04)\r\n",
      "Best objective 3.500000000000e+01, best bound 3.500000000000e+01, gap 0.0000%\r\n",
      "\r\n",
      "User-callback calls 78, time in user-callback 0.00 sec\r\n"
     ]
    },
    {
     "data": {
      "text/plain": [
       "OPTIMAL::TerminationStatusCode = 1"
      ]
     },
     "execution_count": 66,
     "metadata": {},
     "output_type": "execute_result"
    }
   ],
   "source": [
    "#resolver (CUIDADO, tenemos outputflag 0)\n",
    "\n",
    "optimize!(mimodelo)\n",
    "termination_status(mimodelo)"
   ]
  },
  {
   "cell_type": "code",
   "execution_count": 67,
   "metadata": {},
   "outputs": [
    {
     "data": {
      "text/plain": [
       "35.0"
      ]
     },
     "execution_count": 67,
     "metadata": {},
     "output_type": "execute_result"
    }
   ],
   "source": [
    "# Muestre el valor objetivo (objective_value)\n",
    "objective_value(mimodelo)"
   ]
  },
  {
   "cell_type": "code",
   "execution_count": 68,
   "metadata": {},
   "outputs": [
    {
     "data": {
      "text/plain": [
       "7-element Array{Array{Int64,1},1}:\n",
       " [1, 6]\n",
       " [1, 8]\n",
       " [2, 5]\n",
       " [3, 4]\n",
       " [3, 8]\n",
       " [4, 7]\n",
       " [5, 7]"
      ]
     },
     "execution_count": 68,
     "metadata": {},
     "output_type": "execute_result"
    }
   ],
   "source": [
    "# Mostrar aristas de valor 1\n",
    "[e for e in E if value(mimodelo[:x][e[1],e[2]]) ≈ 1]"
   ]
  },
  {
   "cell_type": "markdown",
   "metadata": {},
   "source": [
    "## Ejercicio 2. Formulacion del MST como PLE por ciclos"
   ]
  },
  {
   "cell_type": "markdown",
   "metadata": {},
   "source": [
    "Recuerde que un subgrafo $H = (V, F)$ de $G=(V,E)$ es aciclico si y solo si la siguiente condición de eliminación de  ciclos se cumple:\n",
    "   \n",
    ">   $|F[S]|\\leq |S|-1$, para todo $S\\subseteq V, S\\neq \\emptyset, S\\neq V$\n",
    "   \n",
    "Recuerde además que  los árboles generadores de $G$ son exactamente los subgrafos $H = (V, F)$ acíclicos con $|F| = n−1$ aristas.\n",
    "\n",
    "Usando la caracterización anterior, el modelo (M2) siguiente resulta ser un modelo exacto para MST\n",
    "\n",
    "$$\n",
    "\\begin{align*}\n",
    "(\\text{M2}) \\quad \\min \\sum_{e\\in E}&w_e x_e\\\\\n",
    "x(E[S])&\\leq |S|-1, \\qquad \\text{para todo $S\\subseteq V, S\\neq \\emptyset, S\\neq V$.}\\\\\n",
    "x(E) &= n-1\\\\\n",
    "0\\leq x_e  &\\leq 1, \\qquad \\text{para todo $e\\in E$}\\\\\n",
    "x_e &\\in \\mathbb{Z}\n",
    "\\end{align*}\n",
    "$$"
   ]
  },
  {
   "cell_type": "markdown",
   "metadata": {},
   "source": [
    "### Parte 2.a. \n",
    "Escribir una funcion ``modelo_ciclos(N,E,w)`` que reciba valores N, E, w descritos anteriormente y que devuelva un modelo en JuMP para (M2)"
   ]
  },
  {
   "cell_type": "code",
   "execution_count": 82,
   "metadata": {},
   "outputs": [
    {
     "data": {
      "text/plain": [
       "modelo_ciclos (generic function with 1 method)"
      ]
     },
     "execution_count": 82,
     "metadata": {},
     "output_type": "execute_result"
    }
   ],
   "source": [
    "function modelo_ciclos(N,E,w)\n",
    "    # 1. Crear modelo, asignar Gurobi como el optimizador\n",
    "    mimodelo2 = Model()\n",
    "    set_optimizer(mimodelo2, Gurobi.Optimizer)\n",
    "    \n",
    "    # 2. Declarar variables de decisión (recomendamos usar este formato)\n",
    "    @variable(mimodelo2, 0<=x[i in 1:N,j in 1:N; [i,j] in E]<=1, Int)    \n",
    "    \n",
    "    #3. Función objetivo\n",
    "    @objective(mimodelo2, Min, sum(x[e[1],e[2]]*w[e] for e in E))\n",
    "\n",
    "    # 3. Escribir restricciones (llenar)\n",
    "    for S in powerset(1:N, 1, N-1)\n",
    "        @constraint(mimodelo2, sum(x[i,j] for i in S, j in S if [i,j] in E ) <= length(S)- 1)\n",
    "    end\n",
    "    # no olvidar ninguna restriccion  \n",
    "    @constraint(mimodelo2, sum(x[i,j] for i in 1:N, j in 1:N if [i,j] in E) == N-1)\n",
    "    \n",
    "    return mimodelo2\n",
    "end"
   ]
  },
  {
   "cell_type": "markdown",
   "metadata": {},
   "source": [
    "### Parte 2.b \n",
    "Resolver MST, usando el modelo, en una instancia de prueba ubicado en el archivo \"grafo1.csv\". "
   ]
  },
  {
   "cell_type": "code",
   "execution_count": 83,
   "metadata": {},
   "outputs": [
    {
     "name": "stdout",
     "output_type": "stream",
     "text": [
      "Grafo con 8 nodos y 15 aristas\n",
      "Academic license - for non-commercial use only - expires 2021-05-24\n",
      "  0.550193 seconds (573.99 k allocations: 30.213 MiB, 4.59% gc time)\n"
     ]
    }
   ],
   "source": [
    "# Lea el grafo y cree el modelo, mostrando el tiempo de ejecución\n",
    "N,E,w=leegrafo(\"grafo1.csv\")\n",
    "println(\"Grafo con $N nodos y $(size(E,1)) aristas\")\n",
    "@time mimodelo2 = modelo_ciclos(N,E,w);"
   ]
  },
  {
   "cell_type": "code",
   "execution_count": 84,
   "metadata": {},
   "outputs": [
    {
     "name": "stdout",
     "output_type": "stream",
     "text": [
      "Gurobi Optimizer version 9.1.1 build v9.1.1rc0 (win64)\r\n",
      "Thread count: 4 physical cores, 8 logical processors, using up to 8 threads\r\n",
      "Optimize a model with 255 rows, 15 columns and 960 nonzeros\r\n",
      "Model fingerprint: 0x2cdeed8a\r\n",
      "Variable types: 0 continuous, 15 integer (0 binary)\r\n",
      "Coefficient statistics:\r\n",
      "  Matrix range     [1e+00, 1e+00]\r\n",
      "  Objective range  [5e+00, 2e+01]\r\n",
      "  Bounds range     [1e+00, 1e+00]\r\n",
      "  RHS range        [1e+00, 7e+00]\r\n",
      "Found heuristic solution: objective 95.0000000\r\n",
      "Presolve removed 174 rows and 0 columns\r\n",
      "Presolve time: 0.00s\r\n",
      "Presolved: 81 rows, 15 columns, 563 nonzeros\r\n",
      "Variable types: 0 continuous, 15 integer (15 binary)\r\n",
      "\r\n",
      "Root relaxation: objective 3.500000e+01, 1 iterations, 0.00 seconds\r\n",
      "\r\n",
      "    Nodes    |    Current Node    |     Objective Bounds      |     Work\r\n",
      " Expl Unexpl |  Obj  Depth IntInf | Incumbent    BestBd   Gap | It/Node Time\r\n",
      "\r\n",
      "*    0     0               0      35.0000000   35.00000  0.00%     -    0s\r\n",
      "\r\n",
      "Explored 0 nodes (1 simplex iterations) in 0.00 seconds\r\n",
      "Thread count was 8 (of 8 available processors)\r\n",
      "\r\n",
      "Solution count 2: 35 95 \r\n",
      "\r\n",
      "Optimal solution found (tolerance 1.00e-04)\r\n",
      "Best objective 3.500000000000e+01, best bound 3.500000000000e+01, gap 0.0000%\r\n",
      "\r\n",
      "User-callback calls 46, time in user-callback 0.00 sec\r\n",
      "  0.687656 seconds (1.31 M allocations: 67.686 MiB, 3.18% gc time)\n"
     ]
    }
   ],
   "source": [
    "# Optimice el modelo, mostrando el tiempo de ejecución\n",
    "@time optimize!(mimodelo2);"
   ]
  },
  {
   "cell_type": "code",
   "execution_count": 85,
   "metadata": {},
   "outputs": [
    {
     "data": {
      "text/plain": [
       "35.0"
      ]
     },
     "execution_count": 85,
     "metadata": {},
     "output_type": "execute_result"
    }
   ],
   "source": [
    "# Muestre el valor objetivo (objective_value)\n",
    "# Muestre el valor objetivo (objective_value)\n",
    "objective_value(mimodelo2)"
   ]
  },
  {
   "cell_type": "code",
   "execution_count": 86,
   "metadata": {},
   "outputs": [
    {
     "data": {
      "text/plain": [
       "7-element Array{Array{Int64,1},1}:\n",
       " [1, 6]\n",
       " [1, 8]\n",
       " [2, 5]\n",
       " [3, 4]\n",
       " [3, 8]\n",
       " [4, 7]\n",
       " [5, 7]"
      ]
     },
     "execution_count": 86,
     "metadata": {},
     "output_type": "execute_result"
    }
   ],
   "source": [
    "# Mostrar aristas de valor 1# Mostrar aristas de valor 1\n",
    "[e for e in E if value(mimodelo2[:x][e[1],e[2]]) ≈ 1]"
   ]
  },
  {
   "cell_type": "raw",
   "metadata": {},
   "source": []
  },
  {
   "cell_type": "raw",
   "metadata": {},
   "source": []
  },
  {
   "cell_type": "markdown",
   "metadata": {},
   "source": [
    "## Ejercicio 3. Formulacion del MST como PLE por arborescencias"
   ]
  },
  {
   "cell_type": "markdown",
   "metadata": {},
   "source": [
    "Sea $G' = (V,A)$ el digrafo obtenido al reemplazar cada arista $ij$ de E por dos arcos antiparalelos $(i, j); (j, i) \\in A$.\n",
    "\n",
    "Un subgrafo $H=(V,F)$ de $G=(V,E)$ es un árbol generador si y solo si podemos dirigir este árbol a una arborescencia enraizada en un nodo fijo $r\\in V$. En otras palabras\n",
    "1. Debemos poder elegir exactamente una dirección para cada e en E\n",
    "2. Cada nodo $v\\in V$ tiene exactamente un arco entrante (que viene de su padre), excepto $r\\in V$ que no tiene padres. Esto dice que hay exactamente n-1 nodos.\n",
    "\n",
    "Podemos escribir esto como un programa lineal entero extendido (es decir con variables adicionales $\\{y_a\\}_{a\\in A}$ como sigue (aqui $r\\in V$ es un vértice fijo que se elige antes)\n",
    "\n",
    "\n",
    "$$\\begin{align*}\n",
    "(\\text{M3}) \\quad \\min \\sum_{e\\in E}&w_e x_e\\\\\n",
    "x(E) &= n-1\\\\\n",
    "y_{i,j}+y_{j,i}&= x_e, \\qquad\\text{para todo $e=ij\\in E$}\\\\\n",
    "y(\\delta^-(i))&= 1, \\qquad \\text{para todo $i\\in V-r$}\\\\\n",
    "y(\\delta^-(r))&= 0,\\\\\n",
    "y_a&\\geq 0, \\qquad \\text{para todo $(i,j)\\in A$}\\\\\n",
    "0\\leq x_e  &\\leq 1, \\qquad \\text{para todo $e\\in E$}\\\\\n",
    "x_e &\\in \\mathbb{Z}, \\qquad \\text{para todo $e\\in E$}\\\\\n",
    "y_a &\\in \\mathbb{Z}, \\qquad \\text{para todo $a\\in A$}\\\\\n",
    "\\end{align*}\n",
    "$$"
   ]
  },
  {
   "cell_type": "markdown",
   "metadata": {},
   "source": [
    "### Parte 3.a. \n",
    "Escribir una funcion ``modelo_arborescencia(N,E,w)`` que reciba valores N, E, w descritos anteriormente y que devuelva un modelo en JuMP para (M3)"
   ]
  },
  {
   "cell_type": "code",
   "execution_count": 130,
   "metadata": {},
   "outputs": [
    {
     "data": {
      "text/plain": [
       "modelo_arborescencia (generic function with 1 method)"
      ]
     },
     "execution_count": 130,
     "metadata": {},
     "output_type": "execute_result"
    }
   ],
   "source": [
    "function modelo_arborescencia(N,E,w)\n",
    "    # nota: puede crear el conjunto A primero, use r=1\n",
    "    # De preferencia acá indexe las variables \"y\" por pares ordenados \n",
    "    # y[i in ..., j in...; [i,j] in ...], no por y[a in A], pues de esta ultima manera debe usar y[[i,j]] para trabajar.\n",
    "    # ..\n",
    "    # nota: No necesita usar for para crear restricciones simples, puede indexarlas directamente\n",
    "    # @constraint(mimodelo, [i in 1:N], restriccion para i)\n",
    "    # return mimodelo\n",
    "    # 1. Crear modelo, asignar Gurobi como el optimizador\n",
    "    mimodelo3 = Model()\n",
    "    set_optimizer(mimodelo3, Gurobi.Optimizer)\n",
    "    A=[]  \n",
    "    for e in E\n",
    "        append!(A,[[e[1],e[2]]])\n",
    "        append!(A,[[e[2],e[1]]])\n",
    "    end    \n",
    "    \n",
    "    # 2. Declarar variables de decisión (recomendamos usar este formato)\n",
    "    @variable(mimodelo3, 0<=x[i in 1:N,j in 1:N; [i,j] in E]<=1, Int) \n",
    "    @variable(mimodelo3,y[i in 1:N, j in 1:N; [i,j] in A] >= 0, Int)\n",
    "    \n",
    "    #3. Función objetivo\n",
    "    @objective(mimodelo3, Min, sum(x[e[1],e[2]]*w[e] for e in E))\n",
    "\n",
    "    # 3. Escribir restricciones (llenar)\n",
    "    for i in 1:N\n",
    "        for j in 1:N\n",
    "            if [i,j] in E\n",
    "                @constraint(mimodelo3 ,y[i,j] + y[j,i] == x[i,j])\n",
    "            end\n",
    "        end\n",
    "    end\n",
    "    \n",
    "    # usando r = 1\n",
    "    for i in 2:N\n",
    "        @constraint(mimodelo3,sum(y[k,i] for k in 1:N if [k,i] in A ) == 1)\n",
    "    end\n",
    "    \n",
    "    @constraint(mimodelo3,sum(y[k,1] for k in 1:N if [k,1] in A ) == 0)\n",
    "    \n",
    "    # no olvidar ninguna restriccion  \n",
    "    @constraint(mimodelo3, sum(x[i,j] for i in 1:N, j in 1:N if [i,j] in E) == N-1)\n",
    "    \n",
    "    return mimodelo3\n",
    "end"
   ]
  },
  {
   "cell_type": "markdown",
   "metadata": {},
   "source": [
    "### Parte 3.b \n",
    "Resolver MST, usando el modelo, en una instancia de prueba ubicado en el archivo \"grafo1.csv\". "
   ]
  },
  {
   "cell_type": "code",
   "execution_count": 131,
   "metadata": {},
   "outputs": [
    {
     "name": "stdout",
     "output_type": "stream",
     "text": [
      "Grafo con 8 nodos y 15 aristas\n",
      "Academic license - for non-commercial use only - expires 2021-05-24\n",
      "  0.554473 seconds (652.86 k allocations: 34.484 MiB)\n"
     ]
    }
   ],
   "source": [
    "# Lea el grafo y cree el modelo, mostrando el tiempo de ejecución\n",
    "N,E,w=leegrafo(\"grafo1.csv\")\n",
    "println(\"Grafo con $N nodos y $(size(E,1)) aristas\")\n",
    "@time mimodelo3 = modelo_arborescencia(N,E,w);"
   ]
  },
  {
   "cell_type": "code",
   "execution_count": 132,
   "metadata": {},
   "outputs": [
    {
     "name": "stdout",
     "output_type": "stream",
     "text": [
      "Gurobi Optimizer version 9.1.1 build v9.1.1rc0 (win64)\n",
      "Thread count: 4 physical cores, 8 logical processors, using up to 8 threads\n",
      "Optimize a model with 24 rows, 45 columns and 90 nonzeros\n",
      "Model fingerprint: 0x1d0a51ee\n",
      "Variable types: 0 continuous, 45 integer (0 binary)\n",
      "Coefficient statistics:\n",
      "  Matrix range     [1e+00, 1e+00]\n",
      "  Objective range  [5e+00, 2e+01]\n",
      "  Bounds range     [1e+00, 1e+00]\n",
      "  RHS range        [1e+00, 7e+00]\n",
      "Found heuristic solution: objective 75.0000000\n",
      "Presolve removed 5 rows and 8 columns\n",
      "Presolve time: 0.00s\n",
      "Presolved: 19 rows, 37 columns, 74 nonzeros\n",
      "Variable types: 0 continuous, 37 integer (37 binary)\n",
      "\n",
      "Root relaxation: objective 3.500000e+01, 13 iterations, 0.00 seconds\n",
      "\n",
      "    Nodes    |    Current Node    |     Objective Bounds      |     Work\n",
      " Expl Unexpl |  Obj  Depth IntInf | Incumbent    BestBd   Gap | It/Node Time\n",
      "\n",
      "*    0     0               0      35.0000000   35.00000  0.00%     -    0s\n",
      "\n",
      "Explored 0 nodes (13 simplex iterations) in 0.00 seconds\n",
      "Thread count was 8 (of 8 available processors)\n",
      "\n",
      "Solution count 2: 35 75 \n",
      "\n",
      "Optimal solution found (tolerance 1.00e-04)\n",
      "Best objective 3.500000000000e+01, best bound 3.500000000000e+01, gap 0.0000%\n",
      "\n",
      "User-callback calls 44, time in user-callback 0.00 sec\n",
      "  0.005293 seconds (1.17 k allocations: 128.531 KiB)\n"
     ]
    }
   ],
   "source": [
    "# Optimice el modelo, mostrando el tiempo de ejecución\n",
    "@time optimize!(mimodelo3);"
   ]
  },
  {
   "cell_type": "code",
   "execution_count": 134,
   "metadata": {},
   "outputs": [
    {
     "data": {
      "text/plain": [
       "35.0"
      ]
     },
     "execution_count": 134,
     "metadata": {},
     "output_type": "execute_result"
    }
   ],
   "source": [
    "# Muestre el valor objetivo (objective_value)\n",
    "objective_value(mimodelo3)"
   ]
  },
  {
   "cell_type": "code",
   "execution_count": 135,
   "metadata": {},
   "outputs": [
    {
     "data": {
      "text/plain": [
       "7-element Array{Array{Int64,1},1}:\n",
       " [1, 6]\n",
       " [1, 8]\n",
       " [2, 5]\n",
       " [3, 4]\n",
       " [3, 8]\n",
       " [4, 7]\n",
       " [5, 7]"
      ]
     },
     "execution_count": 135,
     "metadata": {},
     "output_type": "execute_result"
    }
   ],
   "source": [
    "# Mostrar aristas de valor 1\n",
    "# Mostrar aristas de valor 1# Mostrar aristas de valor 1\n",
    "[e for e in E if value(mimodelo2[:x][e[1],e[2]]) ≈ 1]"
   ]
  },
  {
   "cell_type": "markdown",
   "metadata": {},
   "source": [
    "## Ejercicio 4. Formulacion del MST por componentes\n",
    "\n",
    "Defina el conjunto \n",
    "$S=\\{(i,j,k)\\colon i\\neq j, j\\neq k, k\\neq i, \\{i,j\\}\\in E\\}$\n",
    "\n",
    "Si $T$ es un árbol, y definimos $x_{\\{i,j\\}}$ como la indicatriz del evento $\\{i,j\\}\\in T$ y $z_{i,j,k}$ como la indicatriz del evento $\\{i,j\\}$ es arista de $T$ y $k$ está en la componente de $j$ en el grafo $T-ij$, entonces se puede probar que este punto es factible en el PLE que listaremos a continuación. Usando esto se puede probar que el siguiente modelo es exacto:\n",
    "\n",
    "\n",
    "$$\\begin{align*}\n",
    "(\\text{M4}) \\quad \\min \\sum_{e\\in E}&w_e x_e\\\\\n",
    "x(E) &= n-1\\\\\n",
    "z_{i,j,k}+z_{j,i,k}&= x_e, \\qquad\\text{para todo $e=ij\\in E$}\\\\\n",
    "x_{i,k} + \\sum_{j\\in V\\colon (i,j,k)\\in S}z_{i,j,k}&=1, \\qquad\\text{para todo $ik\\in E$}\\\\\n",
    "z_{i,j,k}&\\geq 0, \\qquad \\text{para todo $(i,j,k)\\in S$}\\\\\n",
    "0\\leq x_e  &\\leq 1, \\qquad \\text{para todo $e\\in E$}\\\\\n",
    "x_e &\\in \\mathbb{Z}, \\qquad \\text{para todo $e\\in E$}\\\\\n",
    "z_{i,j,k} &\\in \\mathbb{Z}, \\qquad \\text{para todo $(i,j,k)\\in A$}\\\\\n",
    "\\end{align*}\n",
    "$$"
   ]
  },
  {
   "cell_type": "markdown",
   "metadata": {},
   "source": [
    "### Parte 4.a. \n",
    "Escribir una funcion ``modelo_componentes(N,E,w)`` que reciba valores N, E, w descritos anteriormente y que devuelva un modelo en JuMP para (M3)"
   ]
  },
  {
   "cell_type": "code",
   "execution_count": null,
   "metadata": {},
   "outputs": [],
   "source": [
    "function modelo_componentes(N,E,w)\n",
    "    mimodelo3 = Model()\n",
    "    set_optimizer(mimodelo4, Gurobi.Optimizer)\n",
    "    S=[]  \n",
    "    for e in E:\n",
    "        for k in 1:N\n",
    "            if e[2] != k\n",
    "                append!(S,[[e[1],e[2],k]])\n",
    "            elseif k != e[1]\n",
    "                append!\n",
    "    \n",
    "    # 2. Declarar variables de decisión (recomendamos usar este formato)\n",
    "    @variable(mimodelo3, 0<=x[i in 1:N,j in 1:N; [i,j] in E]<=1, Int) \n",
    "    @variable(mimodelo3,y[i in 1:N, j in 1:N; [i,j] in A] >= 0, Int)\n",
    "    \n",
    "    #3. Función objetivo\n",
    "    @objective(mimodelo3, Min, sum(x[e[1],e[2]]*w[e] for e in E))\n",
    "\n",
    "    # 3. Escribir restricciones (llenar)\n",
    "    for i in 1:N\n",
    "        for j in 1:N\n",
    "            if [i,j] in E\n",
    "                @constraint(mimodelo3 ,y[i,j] + y[j,i] == x[i,j])\n",
    "            end\n",
    "        end\n",
    "    end\n",
    "    \n",
    "    # usando r = 1\n",
    "    for i in 2:N\n",
    "        @constraint(mimodelo3,sum(y[k,i] for k in 1:N if [k,i] in A ) == 1)\n",
    "    end\n",
    "    \n",
    "    @constraint(mimodelo3,sum(y[k,1] for k in 1:N if [k,1] in A ) == 0)\n",
    "    \n",
    "    # no olvidar ninguna restriccion  \n",
    "    @constraint(mimodelo3, sum(x[i,j] for i in 1:N, j in 1:N if [i,j] in E) == N-1)\n",
    "    \n",
    "    return mimodelo4\n",
    "end"
   ]
  },
  {
   "cell_type": "markdown",
   "metadata": {},
   "source": [
    "### Parte 4.b \n",
    "Resolver MST, usando el modelo, en una instancia de prueba ubicado en el archivo \"grafo1.csv\". "
   ]
  },
  {
   "cell_type": "code",
   "execution_count": null,
   "metadata": {},
   "outputs": [],
   "source": [
    "# Lea el grafo y cree el modelo, mostrando el tiempo de ejecución"
   ]
  },
  {
   "cell_type": "code",
   "execution_count": null,
   "metadata": {},
   "outputs": [],
   "source": [
    "# Optimice el modelo, mostrando el tiempo de ejecución"
   ]
  },
  {
   "cell_type": "code",
   "execution_count": null,
   "metadata": {},
   "outputs": [],
   "source": [
    "# Muestre el valor objetivo (objective_value)"
   ]
  },
  {
   "cell_type": "code",
   "execution_count": null,
   "metadata": {},
   "outputs": [],
   "source": [
    "# Mostrar aristas de valor 1"
   ]
  },
  {
   "cell_type": "markdown",
   "metadata": {},
   "source": [
    "## Ejercicio 5. Pequeña prueba de la calidad de cada formulación\n",
    "\n",
    "Cree una función ``Prueba(N,e,w)`` que reciba valores N,E,w y realice lo siguiente\n",
    "\n",
    "1. Para cada modelo resuelva el problema asociado 2 veces: una vez con todas las variables enteras y la segunda vez quitando la restricción de integralidad (puede usar el comando unset_integer(nombremodelo[:nombrevariable]))\n",
    "\n",
    "La única salida que se pide, es que al final de todas las ejecuciones, no entremedio del texto que manda Gurobi, se\n",
    "imprima en la pantalla 4 lineas, una con cada modelo. Como sigue:\n",
    "\n",
    "> Modelo (NOMBRE):  Valor del PLE = (valor_objetivo_PLE). Valor del PL = (valor_objetivo_PL)\n",
    "\n",
    "2. Ejecute su función en los grafos \"grafo1.csv\" al \"grafo5.csv\".\n"
   ]
  },
  {
   "cell_type": "code",
   "execution_count": null,
   "metadata": {},
   "outputs": [],
   "source": []
  }
 ],
 "metadata": {
  "kernelspec": {
   "display_name": "Julia 1.5.4",
   "language": "julia",
   "name": "julia-1.5"
  },
  "language_info": {
   "file_extension": ".jl",
   "mimetype": "application/julia",
   "name": "julia",
   "version": "1.5.4"
  }
 },
 "nbformat": 4,
 "nbformat_minor": 2
}
